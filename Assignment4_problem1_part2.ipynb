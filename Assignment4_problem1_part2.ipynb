{
  "nbformat": 4,
  "nbformat_minor": 0,
  "metadata": {
    "colab": {
      "provenance": []
    },
    "kernelspec": {
      "name": "python3",
      "display_name": "Python 3"
    },
    "language_info": {
      "name": "python"
    }
  },
  "cells": [
    {
      "cell_type": "code",
      "execution_count": 1,
      "metadata": {
        "id": "BemedXtuWdu0"
      },
      "outputs": [],
      "source": [
        "## Dingyi Kang\n",
        "## A20308046\n",
        "## Assignment4 - problem 1\n",
        "\n",
        "import numpy as np\n",
        "import math"
      ]
    },
    {
      "cell_type": "code",
      "source": [
        "def prob_of_apartment(localPrice, numBathrooms, landArea, livingArea, numGarages, numRooms, numBedrooms, homeAge):\n",
        "  #calculate the conditional probabilty of local price\n",
        "  x = localPrice\n",
        "  m = 7.33274285714286\n",
        "  sd = 3.6159972353682\n",
        "  prob_local_price = 1/(math.sqrt(2*math.pi)*sd) * math.exp(-(x-m)**2/(2*sd**2))\n",
        "\n",
        "  #calculate the conditional probabilty of number of bathrooms\n",
        "  x = numBathrooms\n",
        "  m = 1.28571428571429\n",
        "  sd = 0.566946709513841\n",
        "  prob_num_bathrooms = 1/(math.sqrt(2*math.pi)*sd) * math.exp(-(x-m)**2/(2*sd**2))\n",
        "\n",
        "  #calculate the conditional probabilty of land area\n",
        "  x = landArea\n",
        "  m = 6.10385714285714\n",
        "  sd = 3.25850949712551\n",
        "  prob_land_area = 1/(math.sqrt(2*math.pi)*sd) * math.exp(-(x-m)**2/(2*sd**2))\n",
        "\n",
        "  #calculate the conditional probabilty of living area\n",
        "  x = livingArea\n",
        "  m = 1.505\n",
        "  sd = 0.704105815911217\n",
        "  prob_living_area = 1/(math.sqrt(2*math.pi)*sd) * math.exp(-(x-m)**2/(2*sd**2))\n",
        "\n",
        "  #calculate the conditional probabilty of number of garages\n",
        "  x = numGarages\n",
        "  m = 1.21428571428571\n",
        "  sd = 0.698638131005772\n",
        "  prob_num_garages = 1/(math.sqrt(2*math.pi)*sd) * math.exp(-(x-m)**2/(2*sd**2))\n",
        "\n",
        "  #calculate the conditional probabilty of number of rooms\n",
        "  x = numRooms\n",
        "  m = 6.85714285714286\n",
        "  sd = 1.3451854182691\n",
        "  prob_num_rooms = 1/(math.sqrt(2*math.pi)*sd) * math.exp(-(x-m)**2/(2*sd**2))\n",
        "\n",
        "  #calculate the conditional probabilty of number of bedrooms\n",
        "  x = numBedrooms\n",
        "  m = 3.42857142857143\n",
        "  sd = 0.975900072948533\n",
        "  prob_num_bedrooms = 1/(math.sqrt(2*math.pi)*sd) * math.exp(-(x-m)**2/(2*sd**2))\n",
        "\n",
        "  #calculate the conditional probabilty of home page\n",
        "  x = homeAge\n",
        "  m = 38.7142857142857\n",
        "  sd = 14.6823509211375\n",
        "  prob_home_age = 1/(math.sqrt(2*math.pi)*sd) * math.exp(-(x-m)**2/(2*sd**2))\n",
        "\n",
        "  #this the probablity of this class\n",
        "  prob_of_class_Apartment = 7/20\n",
        "\n",
        "  # return the probability of that this example belongs to this class based on MAP\n",
        "  return prob_local_price*prob_num_bathrooms*prob_land_area*prob_living_area*prob_num_garages*prob_num_rooms*prob_num_bedrooms*prob_home_age*prob_of_class_Apartment"
      ],
      "metadata": {
        "id": "13MqGiP1qMnt"
      },
      "execution_count": 2,
      "outputs": []
    },
    {
      "cell_type": "code",
      "source": [
        "def prob_of_condo(localPrice, numBathrooms, landArea, livingArea, numGarages, numRooms, numBedrooms, homeAge):\n",
        "  #calculate the conditional probabilty of local price\n",
        "  x = localPrice\n",
        "  m = 7.4159\n",
        "  sd = 4.6112478580098\n",
        "  prob_local_price = 1/(math.sqrt(2*math.pi)*sd) * math.exp(-(x-m)**2/(2*sd**2))\n",
        "\n",
        "  #calculate the conditional probabilty of number of bathrooms\n",
        "  x = numBathrooms\n",
        "  m = 1.33333333333333\n",
        "  sd = 0.605530070819498\n",
        "  prob_num_bathrooms = 1/(math.sqrt(2*math.pi)*sd) * math.exp(-(x-m)**2/(2*sd**2))\n",
        "\n",
        "  #calculate the conditional probabilty of land area\n",
        "  x = landArea\n",
        "  m = 6.02466666666667\n",
        "  sd = 2.54477737074713\n",
        "  prob_land_area = 1/(math.sqrt(2*math.pi)*sd) * math.exp(-(x-m)**2/(2*sd**2))\n",
        "\n",
        "  #calculate the conditional probabilty of living area\n",
        "  x = livingArea\n",
        "  m = 1.55333333333333\n",
        "  sd = 0.923441317391996\n",
        "  prob_living_area = 1/(math.sqrt(2*math.pi)*sd) * math.exp(-(x-m)**2/(2*sd**2))\n",
        "\n",
        "  #calculate the conditional probabilty of number of garages\n",
        "  x = numGarages\n",
        "  m = 1.33333333333333\n",
        "  sd = 0.516397779494322\n",
        "  prob_num_garages = 1/(math.sqrt(2*math.pi)*sd) * math.exp(-(x-m)**2/(2*sd**2))\n",
        "\n",
        "  #calculate the conditional probabilty of number of rooms\n",
        "  x = numRooms\n",
        "  m = 6.83333333333333\n",
        "  sd = 1.60208197875972\n",
        "  prob_num_rooms = 1/(math.sqrt(2*math.pi)*sd) * math.exp(-(x-m)**2/(2*sd**2))\n",
        "\n",
        "  #calculate the conditional probabilty of number of bedrooms\n",
        "  x = numBedrooms\n",
        "  m = 3.33333333333333\n",
        "  sd = 0.816496580927725\n",
        "  prob_num_bedrooms = 1/(math.sqrt(2*math.pi)*sd) * math.exp(-(x-m)**2/(2*sd**2))\n",
        "\n",
        "  #calculate the conditional probabilty of home page\n",
        "  x = homeAge\n",
        "  m = 39.6666666666667\n",
        "  sd = 13.9522996909709\n",
        "  prob_home_age = 1/(math.sqrt(2*math.pi)*sd) * math.exp(-(x-m)**2/(2*sd**2))\n",
        "\n",
        "  #this the probablity of this class\n",
        "  prob_of_class_condo = 6/20\n",
        "\n",
        "  # return the probability of that this example belongs to this class based on MAP\n",
        "  return prob_local_price*prob_num_bathrooms*prob_land_area*prob_living_area*prob_num_garages*prob_num_rooms*prob_num_bedrooms*prob_home_age*prob_of_class_condo"
      ],
      "metadata": {
        "id": "uq49uycEyNAo"
      },
      "execution_count": 3,
      "outputs": []
    },
    {
      "cell_type": "code",
      "source": [
        "def prob_of_house(localPrice, numBathrooms, landArea, livingArea, numGarages, numRooms, numBedrooms, homeAge):\n",
        "  #calculate the conditional probabilty of local price\n",
        "  x = localPrice\n",
        "  m = 5.76074285714286\n",
        "  sd = 0.570121270307592\n",
        "  prob_local_price = 1/(math.sqrt(2*math.pi)*sd) * math.exp(-(x-m)**2/(2*sd**2))\n",
        "\n",
        "  #calculate the conditional probabilty of number of bathrooms\n",
        "  x = numBathrooms\n",
        "  m = 1.07142857142857\n",
        "  sd = 0.188982236504613\n",
        "  prob_num_bathrooms = 1/(math.sqrt(2*math.pi)*sd) * math.exp(-(x-m)**2/(2*sd**2))\n",
        "\n",
        "  #calculate the conditional probabilty of land area\n",
        "  x = landArea\n",
        "  m = 6.6309\n",
        "  sd = 2.24897321830801\n",
        "  prob_land_area = 1/(math.sqrt(2*math.pi)*sd) * math.exp(-(x-m)**2/(2*sd**2))\n",
        "\n",
        "  #calculate the conditional probabilty of living area\n",
        "  x = livingArea\n",
        "  m = 1.39171428571429\n",
        "  sd = 0.212923862985274\n",
        "  prob_living_area = 1/(math.sqrt(2*math.pi)*sd) * math.exp(-(x-m)**2/(2*sd**2))\n",
        "\n",
        "  #calculate the conditional probabilty of number of garages\n",
        "  x = numGarages\n",
        "  m = 1.07142857142857\n",
        "  sd = 0.838081709847526\n",
        "  prob_num_garages = 1/(math.sqrt(2*math.pi)*sd) * math.exp(-(x-m)**2/(2*sd**2))\n",
        "\n",
        "  #calculate the conditional probabilty of number of rooms\n",
        "  x = numRooms\n",
        "  m = 6.14285714285714\n",
        "  sd = 0.690065559342351\n",
        "  prob_num_rooms = 1/(math.sqrt(2*math.pi)*sd) * math.exp(-(x-m)**2/(2*sd**2))\n",
        "\n",
        "  #calculate the conditional probabilty of number of bedrooms\n",
        "  x = numBedrooms\n",
        "  m = 3\n",
        "  sd = 0.577350269189626\n",
        "  prob_num_bedrooms = 1/(math.sqrt(2*math.pi)*sd) * math.exp(-(x-m)**2/(2*sd**2))\n",
        "\n",
        "  #calculate the conditional probabilty of home page\n",
        "  x = homeAge\n",
        "  m = 34.2857142857143\n",
        "  sd = 12.724180205607\n",
        "  prob_home_age = 1/(math.sqrt(2*math.pi)*sd) * math.exp(-(x-m)**2/(2*sd**2))\n",
        "\n",
        "  #this the probablity of this class\n",
        "  prob_of_class_house = 7/20\n",
        "\n",
        "  # return the probability of that this example belongs to this class based on MAP\n",
        "  return prob_local_price*prob_num_bathrooms*prob_land_area*prob_living_area*prob_num_garages*prob_num_rooms*prob_num_bedrooms*prob_home_age*prob_of_class_house"
      ],
      "metadata": {
        "id": "upbULeX1zXof"
      },
      "execution_count": 4,
      "outputs": []
    },
    {
      "cell_type": "code",
      "source": [
        "def determineCorrectness(prop_Apartment, prop_condo, prop_house, actualClass):\n",
        "  correct = True\n",
        "  if prop_Apartment >= prop_condo:\n",
        "    if prop_Apartment >= prop_house:\n",
        "      print(\"The final predicted class of this example is Apartment\")\n",
        "      if actualClass == 'Apartment':\n",
        "        print(\"This classification is corret.\")\n",
        "      else:\n",
        "        print(\"This classification is incorret. The actual class is \" + actualClass)\n",
        "        correct = False\n",
        "    else:\n",
        "      print(\"The final predicted class of this example is House\")\n",
        "      if actualClass == 'House':\n",
        "        print(\"This classification is corret.\")\n",
        "      else:\n",
        "        print(\"This classification is incorret. The actual class is \" + actualClass)\n",
        "        correct = False\n",
        "  elif prop_condo >= prop_house:\n",
        "    print(\"The final predicted class of this example is Condo\")\n",
        "    if actualClass == 'Condo':\n",
        "        print(\"This classification is corret.\")\n",
        "    else:\n",
        "        print(\"This classification is incorret. The actual class is \" + actualClass)\n",
        "        correct = False\n",
        "  else:\n",
        "    print(\"The final predicted class of this example is House\")\n",
        "    if actualClass == 'House':\n",
        "        print(\"This classification is corret.\")\n",
        "    else:\n",
        "        print(\"This classification is incorret. The actual class is \" + actualClass)\n",
        "        correct = False\n",
        "  return correct"
      ],
      "metadata": {
        "id": "ssdqjjNlJfZq"
      },
      "execution_count": 5,
      "outputs": []
    },
    {
      "cell_type": "code",
      "source": [
        "count = 0\n",
        "# test example 1\n",
        "actualClass = 'Apartment'\n",
        "prop_Apartment = prob_of_apartment(6.0931, 1.5, 6.7265, 1.652, 1, 6, 3, 44)\n",
        "print(\"The probablity of that this example belongs to class of Apartment is: \"+str(prop_Apartment))\n",
        "\n",
        "prop_condo = prob_of_condo(6.0931, 1.5, 6.7265, 1.652, 1, 6, 3, 44)\n",
        "print(\"The probablity of that this example belongs to class of Condo is: \"+str(prop_condo))\n",
        "\n",
        "prop_house = prob_of_house(6.0931, 1.5, 6.7265, 1.652, 1, 6, 3, 44)\n",
        "print(\"The probablity of that this example belongs to class of House is: \"+str(prop_house))\n",
        "\n",
        "if determineCorrectness(prop_Apartment, prop_condo, prop_house, actualClass):\n",
        "  count+=1"
      ],
      "metadata": {
        "colab": {
          "base_uri": "https://localhost:8080/"
        },
        "id": "gRdneasBBKpp",
        "outputId": "61844d34-babf-4957-c91f-d6c839cb46a8"
      },
      "execution_count": 6,
      "outputs": [
        {
          "output_type": "stream",
          "name": "stdout",
          "text": [
            "The probablity of that this example belongs to class of Apartment is: 1.9821473791611993e-06\n",
            "The probablity of that this example belongs to class of Condo is: 1.7117341592586106e-06\n",
            "The probablity of that this example belongs to class of House is: 2.2783346320526854e-05\n",
            "The final predicted class of this example is House\n",
            "This classification is incorret. The actual class is Apartment\n"
          ]
        }
      ]
    },
    {
      "cell_type": "code",
      "source": [
        "# test example 2\n",
        "actualClass2 = 'House'\n",
        "prop_Apartment2 = prob_of_apartment(8.3607, 1.5, 9.15, 1.777, 2, 8, 4, 48)\n",
        "print(\"The probablity of that this example belongs to class of Apartment is: \"+str(prop_Apartment2))\n",
        "\n",
        "prop_condo2 = prob_of_condo(8.3607, 1.5, 9.15, 1.777, 2, 8, 4, 48)\n",
        "print(\"The probablity of that this example belongs to class of Condo is: \"+str(prop_condo2))\n",
        "\n",
        "prop_house2 = prob_of_house(8.3607, 1.5, 9.15, 1.777, 2, 8, 4, 48)\n",
        "print(\"The probablity of that this example belongs to class of House is: \"+str(prop_house2))\n",
        "\n",
        "if determineCorrectness(prop_Apartment2, prop_condo2, prop_house2, actualClass2):\n",
        "  count+=1"
      ],
      "metadata": {
        "colab": {
          "base_uri": "https://localhost:8080/"
        },
        "id": "8eLGsR1LClb-",
        "outputId": "5a8d41d8-efaa-4554-b3c3-321ec0e62cb5"
      },
      "execution_count": 7,
      "outputs": [
        {
          "output_type": "stream",
          "name": "stdout",
          "text": [
            "The probablity of that this example belongs to class of Apartment is: 4.855709005221052e-07\n",
            "The probablity of that this example belongs to class of Condo is: 2.6791172977490374e-07\n",
            "The probablity of that this example belongs to class of House is: 4.4800765538811823e-13\n",
            "The final predicted class of this example is Apartment\n",
            "This classification is incorret. The actual class is House\n"
          ]
        }
      ]
    },
    {
      "cell_type": "code",
      "source": [
        "# test example 3\n",
        "actualClass3 = 'House'\n",
        "prop_Apartment3 = prob_of_apartment(8.14, 1, 8, 1.504, 2, 7, 3, 3)\n",
        "print(\"The probablity of that this example belongs to class of Apartment is: \"+str(prop_Apartment3))\n",
        "\n",
        "prop_condo3 = prob_of_condo(8.14, 1, 8, 1.504, 2, 7, 3, 3)\n",
        "print(\"The probablity of that this example belongs to class of Condo is: \"+str(prop_condo3))\n",
        "\n",
        "prop_house3 = prob_of_house(8.14, 1, 8, 1.504, 2, 7, 3, 3)\n",
        "print(\"The probablity of that this example belongs to class of House is: \"+str(prop_house3))\n",
        "\n",
        "if determineCorrectness(prop_Apartment3, prop_condo3, prop_house3, actualClass3):\n",
        "  count+=1"
      ],
      "metadata": {
        "colab": {
          "base_uri": "https://localhost:8080/"
        },
        "id": "fWh4705FDKJa",
        "outputId": "3d327327-aa86-486c-ec1d-459ca474235e"
      },
      "execution_count": 8,
      "outputs": [
        {
          "output_type": "stream",
          "name": "stdout",
          "text": [
            "The probablity of that this example belongs to class of Apartment is: 6.402867269745773e-08\n",
            "The probablity of that this example belongs to class of Condo is: 2.456670365685267e-08\n",
            "The probablity of that this example belongs to class of House is: 1.3881126178647285e-09\n",
            "The final predicted class of this example is Apartment\n",
            "This classification is incorret. The actual class is House\n"
          ]
        }
      ]
    },
    {
      "cell_type": "code",
      "source": [
        "# test example 4\n",
        "actualClass4 = 'Apartment'\n",
        "prop_Apartment4 = prob_of_apartment(9.1416, 1.5, 7.3262, 1.831, 1.5, 8, 4, 31)\n",
        "print(\"The probablity of that this example belongs to class of Apartment is: \"+str(prop_Apartment4))\n",
        "\n",
        "prop_condo4 = prob_of_condo(9.1416, 1.5, 7.3262, 1.831, 1.5, 8, 4, 31)\n",
        "print(\"The probablity of that this example belongs to class of Condo is: \"+str(prop_condo4))\n",
        "\n",
        "prop_house4 = prob_of_house(9.1416, 1.5, 7.3262, 1.831, 1.5, 8, 4, 31)\n",
        "print(\"The probablity of that this example belongs to class of House is: \"+str(prop_house4))\n",
        "\n",
        "if determineCorrectness(prop_Apartment4, prop_condo4, prop_house4, actualClass4):\n",
        "  count+=1"
      ],
      "metadata": {
        "colab": {
          "base_uri": "https://localhost:8080/"
        },
        "id": "dbf34m1dDqzR",
        "outputId": "95b72a2d-0b72-419d-9676-f248255d38b1"
      },
      "execution_count": 9,
      "outputs": [
        {
          "output_type": "stream",
          "name": "stdout",
          "text": [
            "The probablity of that this example belongs to class of Apartment is: 1.1475454140521595e-06\n",
            "The probablity of that this example belongs to class of Condo is: 1.00808724058537e-06\n",
            "The probablity of that this example belongs to class of House is: 1.04019926491616e-15\n",
            "The final predicted class of this example is Apartment\n",
            "This classification is corret.\n"
          ]
        }
      ]
    },
    {
      "cell_type": "code",
      "source": [
        "# test example 5\n",
        "actualClass5 = 'Apartment'\n",
        "prop_Apartment5 = prob_of_apartment(12, 1.5, 5, 1.2, 2, 6, 3, 30)\n",
        "print(\"The probablity of that this example belongs to class of Apartment is: \"+str(prop_Apartment5))\n",
        "\n",
        "prop_condo5 = prob_of_condo(12, 1.5, 5, 1.2, 2, 6, 3, 30)\n",
        "print(\"The probablity of that this example belongs to class of Condo is: \"+str(prop_condo5))\n",
        "\n",
        "prop_house5 = prob_of_house(12, 1.5, 5, 1.2, 2, 6, 3, 30)\n",
        "print(\"The probablity of that this example belongs to class of House is: \"+str(prop_house5))\n",
        "\n",
        "if determineCorrectness(prop_Apartment5, prop_condo5, prop_house5, actualClass5):\n",
        "  count+=1"
      ],
      "metadata": {
        "colab": {
          "base_uri": "https://localhost:8080/"
        },
        "id": "r8Fkcp7pEKOH",
        "outputId": "2bd38127-d4fa-4841-cc8f-a0a092aeae43"
      },
      "execution_count": 10,
      "outputs": [
        {
          "output_type": "stream",
          "name": "stdout",
          "text": [
            "The probablity of that this example belongs to class of Apartment is: 4.07429094192611e-07\n",
            "The probablity of that this example belongs to class of Condo is: 4.305093225532212e-07\n",
            "The probablity of that this example belongs to class of House is: 1.978253169224327e-31\n",
            "The final predicted class of this example is Condo\n",
            "This classification is incorret. The actual class is Apartment\n"
          ]
        }
      ]
    },
    {
      "cell_type": "code",
      "source": [
        "print(str(count)+\" out of 5 classifications are correct\")\n",
        "print(\"The accuracy of the classification is \" + str(count/5))"
      ],
      "metadata": {
        "colab": {
          "base_uri": "https://localhost:8080/"
        },
        "id": "DGrwhzoLL3bA",
        "outputId": "3f12add3-0afe-42d1-d79e-b6a8dc96ef99"
      },
      "execution_count": 11,
      "outputs": [
        {
          "output_type": "stream",
          "name": "stdout",
          "text": [
            "1 out of 5 classifications are correct\n",
            "The accuracy of the classification is 0.2\n"
          ]
        }
      ]
    }
  ]
}