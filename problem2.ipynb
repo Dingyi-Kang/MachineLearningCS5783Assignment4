{
  "nbformat": 4,
  "nbformat_minor": 0,
  "metadata": {
    "colab": {
      "provenance": []
    },
    "kernelspec": {
      "name": "python3",
      "display_name": "Python 3"
    },
    "language_info": {
      "name": "python"
    }
  },
  "cells": [
    {
      "cell_type": "code",
      "source": [
        "!pip install graphviz"
      ],
      "metadata": {
        "colab": {
          "base_uri": "https://localhost:8080/"
        },
        "id": "PU6ssIDHOp8S",
        "outputId": "14efa3f7-d564-4537-bc5a-dcab48958ee9"
      },
      "execution_count": 1,
      "outputs": [
        {
          "output_type": "stream",
          "name": "stdout",
          "text": [
            "Looking in indexes: https://pypi.org/simple, https://us-python.pkg.dev/colab-wheels/public/simple/\n",
            "Requirement already satisfied: graphviz in /usr/local/lib/python3.7/dist-packages (0.10.1)\n"
          ]
        }
      ]
    },
    {
      "cell_type": "code",
      "source": [
        "!pip install pydotplus"
      ],
      "metadata": {
        "colab": {
          "base_uri": "https://localhost:8080/"
        },
        "id": "4CBJU8ExOtUq",
        "outputId": "65686c88-30f5-4dc8-c66e-8bf38bd2f2f2"
      },
      "execution_count": 2,
      "outputs": [
        {
          "output_type": "stream",
          "name": "stdout",
          "text": [
            "Looking in indexes: https://pypi.org/simple, https://us-python.pkg.dev/colab-wheels/public/simple/\n",
            "Requirement already satisfied: pydotplus in /usr/local/lib/python3.7/dist-packages (2.0.2)\n",
            "Requirement already satisfied: pyparsing>=2.0.1 in /usr/local/lib/python3.7/dist-packages (from pydotplus) (3.0.9)\n"
          ]
        }
      ]
    },
    {
      "cell_type": "code",
      "execution_count": 3,
      "metadata": {
        "colab": {
          "base_uri": "https://localhost:8080/"
        },
        "id": "oeNoqUPBWqB1",
        "outputId": "e51930cc-9fce-429a-8e30-b55e522164b7"
      },
      "outputs": [
        {
          "output_type": "stream",
          "name": "stdout",
          "text": [
            "Mounted at /content/drive\n"
          ]
        }
      ],
      "source": [
        "## Dingyi Kang\n",
        "## A20308046\n",
        "## Assignment4 - problem 2\n",
        "\n",
        "import pandas as pd\n",
        "import matplotlib.pyplot as plt\n",
        "from sklearn.tree import DecisionTreeClassifier # Import Decision Tree Classifier\n",
        "from sklearn.model_selection import train_test_split # Import train_test_split function\n",
        "from sklearn import metrics #Import scikit-learn metrics module for accuracy calculation\n",
        "from google.colab import drive\n",
        "\n",
        "import graphviz\n",
        "from sklearn.tree import export_graphviz\n",
        "\n",
        "drive.mount('/content/drive')\n"
      ]
    },
    {
      "cell_type": "code",
      "source": [
        "# extract the training data into pandasframe\n",
        "trainData = pd.read_excel(\"/content/drive/My Drive/Asssignment4_Data.xlsx\", sheet_name=\"Train\")\n",
        "feature_cols = ['Local Price', 'Bathrooms', 'Land Area', 'Living area','# Garages','# Rooms','# Bedrooms', 'Age of home']\n",
        "xTrain = trainData[feature_cols] # Features\n",
        "yTrain = trainData['Construction type']\n",
        "#trainData"
      ],
      "metadata": {
        "id": "1TbN5JCAXLjq"
      },
      "execution_count": 4,
      "outputs": []
    },
    {
      "cell_type": "code",
      "source": [
        "# extract the testing data into pandasframe\n",
        "testData = pd.read_excel(\"/content/drive/My Drive/Asssignment4_Data.xlsx\", sheet_name=\"Test\")\n",
        "xTest = testData[feature_cols] # Features\n",
        "yTest = testData['Construction type']\n",
        "#print(xTest)\n",
        "#print(yTest)"
      ],
      "metadata": {
        "id": "SMCfwVg9YugA"
      },
      "execution_count": 5,
      "outputs": []
    },
    {
      "cell_type": "code",
      "source": [
        "# Create Decision Tree classifer object\n",
        "classifier = DecisionTreeClassifier()\n",
        "\n",
        "# Train Decision Tree Classifer\n",
        "classifier = classifier.fit(xTrain, yTrain)\n",
        "\n",
        "#Predict the response for test dataset\n",
        "y_pred_train = classifier.predict(xTrain)\n",
        "\n",
        "#Predict the response for test dataset\n",
        "y_pred = classifier.predict(xTest)\n",
        "\n",
        "maxDepth = classifier.get_depth()\n",
        "print(\"Maximum Depth of this decision tree is \" + str(maxDepth))"
      ],
      "metadata": {
        "id": "uLbqk-dgaGe9",
        "colab": {
          "base_uri": "https://localhost:8080/"
        },
        "outputId": "bf76fffc-704f-41c7-d57c-cff201e37d36"
      },
      "execution_count": 6,
      "outputs": [
        {
          "output_type": "stream",
          "name": "stdout",
          "text": [
            "Maximum Depth of this decision tree is 5\n"
          ]
        }
      ]
    },
    {
      "cell_type": "code",
      "source": [
        "# Model Accuracy\n",
        "print(\"Accuracy:\", metrics.accuracy_score(yTrain, y_pred_train))"
      ],
      "metadata": {
        "colab": {
          "base_uri": "https://localhost:8080/"
        },
        "id": "RnDoLSWEdy0v",
        "outputId": "5059b15a-9543-4b4e-bbc4-99fd32d2bcb2"
      },
      "execution_count": 7,
      "outputs": [
        {
          "output_type": "stream",
          "name": "stdout",
          "text": [
            "Accuracy: 1.0\n"
          ]
        }
      ]
    },
    {
      "cell_type": "markdown",
      "source": [
        "## Answer to question 1a: the accuracy on training dataset is 100%"
      ],
      "metadata": {
        "id": "_GqZ0rWY4Ll4"
      }
    },
    {
      "cell_type": "code",
      "source": [
        "# Model Accuracy\n",
        "print(\"Accuracy:\", metrics.accuracy_score(yTest, y_pred))"
      ],
      "metadata": {
        "colab": {
          "base_uri": "https://localhost:8080/"
        },
        "id": "i8p4eXjcakTF",
        "outputId": "e2b0cbfc-8eca-4e26-b794-09938be5d0ee"
      },
      "execution_count": 8,
      "outputs": [
        {
          "output_type": "stream",
          "name": "stdout",
          "text": [
            "Accuracy: 0.4\n"
          ]
        }
      ]
    },
    {
      "cell_type": "markdown",
      "source": [
        "## Answer to question 1b: the accuracy on training dataset is 40%"
      ],
      "metadata": {
        "id": "2v9mu68T4fRg"
      }
    },
    {
      "cell_type": "code",
      "source": [
        "def accuracyOfDecisionTreeWithMaxDepth(max_depth):\n",
        "  # Create Decision Tree classifer object with custom max_depth\n",
        "  clf = DecisionTreeClassifier(criterion=\"entropy\", splitter=\"best\", max_depth=max_depth)\n",
        "\n",
        "  # Train Decision Tree Classifer\n",
        "  clf = clf.fit(xTrain,yTrain)\n",
        "\n",
        "  #Predict the response for test dataset\n",
        "  y_pred = clf.predict(xTest)\n",
        "\n",
        "  # Model Accuracy, how often is the classifier correct?\n",
        "  print(\"Accuracy:\", metrics.accuracy_score(yTest, y_pred))\n",
        "  return metrics.accuracy_score(yTest, y_pred)"
      ],
      "metadata": {
        "id": "0KJ3MTpha1_F"
      },
      "execution_count": 9,
      "outputs": []
    },
    {
      "cell_type": "code",
      "source": [
        "\n",
        "depthArr = list(range(1,maxDepth+1))\n",
        "accuracyArr = []\n",
        "for i in depthArr:\n",
        "  accuracyArr.append(accuracyOfDecisionTreeWithMaxDepth(i))\n",
        "\n",
        "plt.xlabel(\"Maximum Depth of the Decision Tree\")\n",
        "plt.ylabel('Classification Accuracy on Testing Data')\n",
        "plt.title(\"Effect of Different Max Depth on Classification Accuracy\")\n",
        "plt.scatter(depthArr, accuracyArr)\n",
        "plt.plot(depthArr, accuracyArr)"
      ],
      "metadata": {
        "colab": {
          "base_uri": "https://localhost:8080/",
          "height": 402
        },
        "id": "juIepaQ75s_M",
        "outputId": "305366f3-5134-4767-fd60-c8656555582c"
      },
      "execution_count": 10,
      "outputs": [
        {
          "output_type": "stream",
          "name": "stdout",
          "text": [
            "Accuracy: 0.4\n",
            "Accuracy: 0.8\n",
            "Accuracy: 0.6\n",
            "Accuracy: 0.6\n",
            "Accuracy: 0.6\n"
          ]
        },
        {
          "output_type": "execute_result",
          "data": {
            "text/plain": [
              "[<matplotlib.lines.Line2D at 0x7f9f29332b90>]"
            ]
          },
          "metadata": {},
          "execution_count": 10
        },
        {
          "output_type": "display_data",
          "data": {
            "text/plain": [
              "<Figure size 432x288 with 1 Axes>"
            ],
            "image/png": "[encoded data removed]"
          },
          "metadata": {
            "needs_background": "light"
          }
        }
      ]
    },
    {
      "cell_type": "markdown",
      "source": [
        "## Answer to question 2: relative to the dafault in which nodes are expanded without restriction of maximum depth, restricting the maximum depth of decision tree may improve the classification accuracy by prevent overfitting. \n",
        "## As we can see from the result and graph above, the decision tree with maxmimum depth of 2 has the best perfomance with a classification accuracy of 80%"
      ],
      "metadata": {
        "id": "aaKSCqDu9XtI"
      }
    },
    {
      "cell_type": "markdown",
      "source": [
        "## Answer to question 3: If there is no restriction on maximum depth of the decision tree, the trained decision tree will 100% overfit. The deeper the decision tree grows, the more complex the model will become because it will have more splits and thus captures more information about the data. After training the model without restriction on max depth, the model will fit perfectly for the training dataset and will not be able to generalize well on test dataset. Hence, restricting the maximum depth of the decision tree, as an apprarent effective approach preventing decision trees from growing too deep,  can effectively prevent the model from being overfitting and thus improve the performance of the classifier."
      ],
      "metadata": {
        "id": "t2KZwUi4Iu3P"
      }
    },
    {
      "cell_type": "code",
      "source": [
        "# Create Decision Tree classifer object with custom max_depth\n",
        "clf = DecisionTreeClassifier(criterion=\"entropy\", splitter=\"best\", max_depth=2)\n",
        "\n",
        "# Train Decision Tree Classifer\n",
        "clf = clf.fit(xTrain,yTrain)\n",
        "\n",
        "#Predict the response for test dataset\n",
        "y_pred = clf.predict(xTest)\n",
        "\n",
        "# Model Accuracy, how often is the classifier correct?\n",
        "print(\"Accuracy:\", metrics.accuracy_score(yTest, y_pred))\n",
        "\n",
        "\n",
        "dot_data = export_graphviz(clf, out_file=None,  \n",
        "                filled=True, rounded=True,\n",
        "                special_characters=True, feature_names = feature_cols,class_names=['Apartment','Condo', 'House'])\n",
        "graph = graphviz.Source(dot_data)  \n",
        "graph\n",
        "\n"
      ],
      "metadata": {
        "colab": {
          "base_uri": "https://localhost:8080/",
          "height": 457
        },
        "id": "qoFEB1bg9XGH",
        "outputId": "43abf651-530c-40b6-af61-a55967b86827"
      },
      "execution_count": 11,
      "outputs": [
        {
          "output_type": "stream",
          "name": "stdout",
          "text": [
            "Accuracy: 0.8\n"
          ]
        },
        {
          "output_type": "execute_result",
          "data": {
            "text/plain": [
              "<graphviz.files.Source at 0x7f9f29361890>"
            ],
            "image/svg+xml": "<?xml version=\"1.0\" encoding=\"UTF-8\" standalone=\"no\"?>\n<!DOCTYPE svg PUBLIC \"-//W3C//DTD SVG 1.1//EN\"\n \"http://www.w3.org/Graphics/SVG/1.1/DTD/svg11.dtd\">\n<!-- Generated by graphviz version 2.40.1 (20161225.0304)\n -->\n<!-- Title: Tree Pages: 1 -->\n<svg width=\"565pt\" height=\"314pt\"\n viewBox=\"0.00 0.00 564.50 314.00\" xmlns=\"http://www.w3.org/2000/svg\" xmlns:xlink=\"http://www.w3.org/1999/xlink\">\n<g id=\"graph0\" class=\"graph\" transform=\"scale(1 1) rotate(0) translate(4 310)\">\n<title>Tree</title>\n<polygon fill=\"#ffffff\" stroke=\"transparent\" points=\"-4,4 -4,-310 560.5,-310 560.5,4 -4,4\"/>\n<!-- 0 -->\n<g id=\"node1\" class=\"node\">\n<title>0</title>\n<path fill=\"#ffffff\" stroke=\"#000000\" d=\"M338.5,-306C338.5,-306 219.5,-306 219.5,-306 213.5,-306 207.5,-300 207.5,-294 207.5,-294 207.5,-235 207.5,-235 207.5,-229 213.5,-223 219.5,-223 219.5,-223 338.5,-223 338.5,-223 344.5,-223 350.5,-229 350.5,-235 350.5,-235 350.5,-294 350.5,-294 350.5,-300 344.5,-306 338.5,-306\"/>\n<text text-anchor=\"start\" x=\"215.5\" y=\"-290.8\" font-family=\"Helvetica,sans-Serif\" font-size=\"14.00\" fill=\"#000000\">Age of home ≤ 36.0</text>\n<text text-anchor=\"start\" x=\"228\" y=\"-275.8\" font-family=\"Helvetica,sans-Serif\" font-size=\"14.00\" fill=\"#000000\">entropy = 1.581</text>\n<text text-anchor=\"start\" x=\"235\" y=\"-260.8\" font-family=\"Helvetica,sans-Serif\" font-size=\"14.00\" fill=\"#000000\">samples = 20</text>\n<text text-anchor=\"start\" x=\"229.5\" y=\"-245.8\" font-family=\"Helvetica,sans-Serif\" font-size=\"14.00\" fill=\"#000000\">value = [7, 6, 7]</text>\n<text text-anchor=\"start\" x=\"221\" y=\"-230.8\" font-family=\"Helvetica,sans-Serif\" font-size=\"14.00\" fill=\"#000000\">class = Apartment</text>\n</g>\n<!-- 1 -->\n<g id=\"node2\" class=\"node\">\n<title>1</title>\n<path fill=\"#c09cf2\" stroke=\"#000000\" d=\"M257,-187C257,-187 141,-187 141,-187 135,-187 129,-181 129,-175 129,-175 129,-116 129,-116 129,-110 135,-104 141,-104 141,-104 257,-104 257,-104 263,-104 269,-110 269,-116 269,-116 269,-175 269,-175 269,-181 263,-187 257,-187\"/>\n<text text-anchor=\"start\" x=\"137\" y=\"-171.8\" font-family=\"Helvetica,sans-Serif\" font-size=\"14.00\" fill=\"#000000\">Local Price ≤ 8.411</text>\n<text text-anchor=\"start\" x=\"148\" y=\"-156.8\" font-family=\"Helvetica,sans-Serif\" font-size=\"14.00\" fill=\"#000000\">entropy = 1.371</text>\n<text text-anchor=\"start\" x=\"155\" y=\"-141.8\" font-family=\"Helvetica,sans-Serif\" font-size=\"14.00\" fill=\"#000000\">samples = 10</text>\n<text text-anchor=\"start\" x=\"149.5\" y=\"-126.8\" font-family=\"Helvetica,sans-Serif\" font-size=\"14.00\" fill=\"#000000\">value = [2, 2, 6]</text>\n<text text-anchor=\"start\" x=\"152.5\" y=\"-111.8\" font-family=\"Helvetica,sans-Serif\" font-size=\"14.00\" fill=\"#000000\">class = House</text>\n</g>\n<!-- 0&#45;&gt;1 -->\n<g id=\"edge1\" class=\"edge\">\n<title>0&#45;&gt;1</title>\n<path fill=\"none\" stroke=\"#000000\" d=\"M251.0199,-222.8796C245.1469,-214.1434 238.8927,-204.8404 232.8321,-195.8253\"/>\n<polygon fill=\"#000000\" stroke=\"#000000\" points=\"235.5834,-193.6444 227.0995,-187.2981 229.7741,-197.5498 235.5834,-193.6444\"/>\n<text text-anchor=\"middle\" x=\"222.2915\" y=\"-208.1314\" font-family=\"Helvetica,sans-Serif\" font-size=\"14.00\" fill=\"#000000\">True</text>\n</g>\n<!-- 4 -->\n<g id=\"node5\" class=\"node\">\n<title>4</title>\n<path fill=\"#fbeade\" stroke=\"#000000\" d=\"M418.5,-187C418.5,-187 299.5,-187 299.5,-187 293.5,-187 287.5,-181 287.5,-175 287.5,-175 287.5,-116 287.5,-116 287.5,-110 293.5,-104 299.5,-104 299.5,-104 418.5,-104 418.5,-104 424.5,-104 430.5,-110 430.5,-116 430.5,-116 430.5,-175 430.5,-175 430.5,-181 424.5,-187 418.5,-187\"/>\n<text text-anchor=\"start\" x=\"295.5\" y=\"-171.8\" font-family=\"Helvetica,sans-Serif\" font-size=\"14.00\" fill=\"#000000\">Age of home ≤ 59.0</text>\n<text text-anchor=\"start\" x=\"308\" y=\"-156.8\" font-family=\"Helvetica,sans-Serif\" font-size=\"14.00\" fill=\"#000000\">entropy = 1.361</text>\n<text text-anchor=\"start\" x=\"315\" y=\"-141.8\" font-family=\"Helvetica,sans-Serif\" font-size=\"14.00\" fill=\"#000000\">samples = 10</text>\n<text text-anchor=\"start\" x=\"309.5\" y=\"-126.8\" font-family=\"Helvetica,sans-Serif\" font-size=\"14.00\" fill=\"#000000\">value = [5, 4, 1]</text>\n<text text-anchor=\"start\" x=\"301\" y=\"-111.8\" font-family=\"Helvetica,sans-Serif\" font-size=\"14.00\" fill=\"#000000\">class = Apartment</text>\n</g>\n<!-- 0&#45;&gt;4 -->\n<g id=\"edge4\" class=\"edge\">\n<title>0&#45;&gt;4</title>\n<path fill=\"none\" stroke=\"#000000\" d=\"M306.9801,-222.8796C312.8531,-214.1434 319.1073,-204.8404 325.1679,-195.8253\"/>\n<polygon fill=\"#000000\" stroke=\"#000000\" points=\"328.2259,-197.5498 330.9005,-187.2981 322.4166,-193.6444 328.2259,-197.5498\"/>\n<text text-anchor=\"middle\" x=\"335.7085\" y=\"-208.1314\" font-family=\"Helvetica,sans-Serif\" font-size=\"14.00\" fill=\"#000000\">False</text>\n</g>\n<!-- 2 -->\n<g id=\"node3\" class=\"node\">\n<title>2</title>\n<path fill=\"#ab7bee\" stroke=\"#000000\" d=\"M106,-68C106,-68 12,-68 12,-68 6,-68 0,-62 0,-56 0,-56 0,-12 0,-12 0,-6 6,0 12,0 12,0 106,0 106,0 112,0 118,-6 118,-12 118,-12 118,-56 118,-56 118,-62 112,-68 106,-68\"/>\n<text text-anchor=\"start\" x=\"8\" y=\"-52.8\" font-family=\"Helvetica,sans-Serif\" font-size=\"14.00\" fill=\"#000000\">entropy = 0.811</text>\n<text text-anchor=\"start\" x=\"19.5\" y=\"-37.8\" font-family=\"Helvetica,sans-Serif\" font-size=\"14.00\" fill=\"#000000\">samples = 8</text>\n<text text-anchor=\"start\" x=\"9.5\" y=\"-22.8\" font-family=\"Helvetica,sans-Serif\" font-size=\"14.00\" fill=\"#000000\">value = [0, 2, 6]</text>\n<text text-anchor=\"start\" x=\"12.5\" y=\"-7.8\" font-family=\"Helvetica,sans-Serif\" font-size=\"14.00\" fill=\"#000000\">class = House</text>\n</g>\n<!-- 1&#45;&gt;2 -->\n<g id=\"edge2\" class=\"edge\">\n<title>1&#45;&gt;2</title>\n<path fill=\"none\" stroke=\"#000000\" d=\"M146.8692,-103.9815C134.8677,-94.4232 122.1152,-84.2668 110.1557,-74.7419\"/>\n<polygon fill=\"#000000\" stroke=\"#000000\" points=\"112.0244,-71.7558 102.0217,-68.2637 107.6635,-77.2314 112.0244,-71.7558\"/>\n</g>\n<!-- 3 -->\n<g id=\"node4\" class=\"node\">\n<title>3</title>\n<path fill=\"#e58139\" stroke=\"#000000\" d=\"M256,-68C256,-68 148,-68 148,-68 142,-68 136,-62 136,-56 136,-56 136,-12 136,-12 136,-6 142,0 148,0 148,0 256,0 256,0 262,0 268,-6 268,-12 268,-12 268,-56 268,-56 268,-62 262,-68 256,-68\"/>\n<text text-anchor=\"start\" x=\"159.5\" y=\"-52.8\" font-family=\"Helvetica,sans-Serif\" font-size=\"14.00\" fill=\"#000000\">entropy = 0.0</text>\n<text text-anchor=\"start\" x=\"162.5\" y=\"-37.8\" font-family=\"Helvetica,sans-Serif\" font-size=\"14.00\" fill=\"#000000\">samples = 2</text>\n<text text-anchor=\"start\" x=\"152.5\" y=\"-22.8\" font-family=\"Helvetica,sans-Serif\" font-size=\"14.00\" fill=\"#000000\">value = [2, 0, 0]</text>\n<text text-anchor=\"start\" x=\"144\" y=\"-7.8\" font-family=\"Helvetica,sans-Serif\" font-size=\"14.00\" fill=\"#000000\">class = Apartment</text>\n</g>\n<!-- 1&#45;&gt;3 -->\n<g id=\"edge3\" class=\"edge\">\n<title>1&#45;&gt;3</title>\n<path fill=\"none\" stroke=\"#000000\" d=\"M200.1171,-103.9815C200.3421,-95.618 200.5795,-86.7965 200.807,-78.3409\"/>\n<polygon fill=\"#000000\" stroke=\"#000000\" points=\"204.3078,-78.3542 201.0781,-68.2637 197.3103,-78.1659 204.3078,-78.3542\"/>\n</g>\n<!-- 5 -->\n<g id=\"node6\" class=\"node\">\n<title>5</title>\n<path fill=\"#fae6d7\" stroke=\"#000000\" d=\"M411,-68C411,-68 303,-68 303,-68 297,-68 291,-62 291,-56 291,-56 291,-12 291,-12 291,-6 297,0 303,0 303,0 411,0 411,0 417,0 423,-6 423,-12 423,-12 423,-56 423,-56 423,-62 417,-68 411,-68\"/>\n<text text-anchor=\"start\" x=\"306\" y=\"-52.8\" font-family=\"Helvetica,sans-Serif\" font-size=\"14.00\" fill=\"#000000\">entropy = 0.991</text>\n<text text-anchor=\"start\" x=\"317.5\" y=\"-37.8\" font-family=\"Helvetica,sans-Serif\" font-size=\"14.00\" fill=\"#000000\">samples = 9</text>\n<text text-anchor=\"start\" x=\"307.5\" y=\"-22.8\" font-family=\"Helvetica,sans-Serif\" font-size=\"14.00\" fill=\"#000000\">value = [5, 4, 0]</text>\n<text text-anchor=\"start\" x=\"299\" y=\"-7.8\" font-family=\"Helvetica,sans-Serif\" font-size=\"14.00\" fill=\"#000000\">class = Apartment</text>\n</g>\n<!-- 4&#45;&gt;5 -->\n<g id=\"edge5\" class=\"edge\">\n<title>4&#45;&gt;5</title>\n<path fill=\"none\" stroke=\"#000000\" d=\"M358.2553,-103.9815C358.1053,-95.618 357.947,-86.7965 357.7954,-78.3409\"/>\n<polygon fill=\"#000000\" stroke=\"#000000\" points=\"361.2935,-78.1993 357.6146,-68.2637 354.2946,-78.3249 361.2935,-78.1993\"/>\n</g>\n<!-- 6 -->\n<g id=\"node7\" class=\"node\">\n<title>6</title>\n<path fill=\"#8139e5\" stroke=\"#000000\" d=\"M544.5,-68C544.5,-68 453.5,-68 453.5,-68 447.5,-68 441.5,-62 441.5,-56 441.5,-56 441.5,-12 441.5,-12 441.5,-6 447.5,0 453.5,0 453.5,0 544.5,0 544.5,0 550.5,0 556.5,-6 556.5,-12 556.5,-12 556.5,-56 556.5,-56 556.5,-62 550.5,-68 544.5,-68\"/>\n<text text-anchor=\"start\" x=\"456.5\" y=\"-52.8\" font-family=\"Helvetica,sans-Serif\" font-size=\"14.00\" fill=\"#000000\">entropy = 0.0</text>\n<text text-anchor=\"start\" x=\"459.5\" y=\"-37.8\" font-family=\"Helvetica,sans-Serif\" font-size=\"14.00\" fill=\"#000000\">samples = 1</text>\n<text text-anchor=\"start\" x=\"449.5\" y=\"-22.8\" font-family=\"Helvetica,sans-Serif\" font-size=\"14.00\" fill=\"#000000\">value = [0, 0, 1]</text>\n<text text-anchor=\"start\" x=\"452.5\" y=\"-7.8\" font-family=\"Helvetica,sans-Serif\" font-size=\"14.00\" fill=\"#000000\">class = House</text>\n</g>\n<!-- 4&#45;&gt;6 -->\n<g id=\"edge6\" class=\"edge\">\n<title>4&#45;&gt;6</title>\n<path fill=\"none\" stroke=\"#000000\" d=\"M411.1308,-103.9815C423.1323,-94.4232 435.8848,-84.2668 447.8443,-74.7419\"/>\n<polygon fill=\"#000000\" stroke=\"#000000\" points=\"450.3365,-77.2314 455.9783,-68.2637 445.9756,-71.7558 450.3365,-77.2314\"/>\n</g>\n</g>\n</svg>\n"
          },
          "metadata": {},
          "execution_count": 11
        }
      ]
    },
    {
      "cell_type": "markdown",
      "source": [
        "## Answer to question 4:\n",
        "## For the pruned decision tree above which has a max depth of 2, \n",
        "## Inference rule of this tree:\n",
        "## 1. determine if the age of home is less than or equal to 36.0\n",
        "## 2. if it is less than or equal to 36.0, then next determine if local price is less than or equal to 8.411. If it is, then this example belongs to class House. Or, it belongs to class Apartment\n",
        "## 3. if its home age is greater than 36, then next deterimine if home age is less than or eaul to 59.0. If it is, this example belongs to class Apartment. Or, it belongs to class House.\n",
        "\n",
        "## Inference for the classification of the given example based on this tree:\n",
        "## 1. given its home age is 23 which is less than 36.0, we go to left branch of the root\n",
        "## 2. given its local price is 9.0384 which is greater than 8.411, we goes to the right branch of this current node, which makes us arrive a leaf, and we can thus classifiy this example as an Apartment."
      ],
      "metadata": {
        "id": "-ukPDXrhVD55"
      }
    },
    {
      "cell_type": "code",
      "source": [
        "# Create Decision Tree classifer object with custom max_depth\n",
        "clf = DecisionTreeClassifier(criterion=\"entropy\", splitter=\"best\")\n",
        "\n",
        "# Train Decision Tree Classifer\n",
        "clf = clf.fit(xTrain,yTrain)\n",
        "\n",
        "#Predict the response for test dataset\n",
        "y_pred = clf.predict(xTest)\n",
        "\n",
        "# Model Accuracy, how often is the classifier correct?\n",
        "print(\"Accuracy:\", metrics.accuracy_score(yTest, y_pred))\n",
        "\n",
        "dot_data = export_graphviz(clf, out_file=None,  \n",
        "                filled=True, rounded=True,\n",
        "                special_characters=True, feature_names = feature_cols,class_names=['Apartment','Condo', 'House'])\n",
        "graph = graphviz.Source(dot_data)  \n",
        "graph"
      ],
      "metadata": {
        "colab": {
          "base_uri": "https://localhost:8080/",
          "height": 775
        },
        "id": "e6rlJmoLPgz_",
        "outputId": "d7e7cb2a-474f-4134-a32e-43604edbcf6b"
      },
      "execution_count": 12,
      "outputs": [
        {
          "output_type": "stream",
          "name": "stdout",
          "text": [
            "Accuracy: 0.6\n"
          ]
        },
        {
          "output_type": "execute_result",
          "data": {
            "text/plain": [
              "<graphviz.files.Source at 0x7f9f293b2890>"
            ],
            "image/svg+xml": "<?xml version=\"1.0\" encoding=\"UTF-8\" standalone=\"no\"?>\n<!DOCTYPE svg PUBLIC \"-//W3C//DTD SVG 1.1//EN\"\n \"http://www.w3.org/Graphics/SVG/1.1/DTD/svg11.dtd\">\n<!-- Generated by graphviz version 2.40.1 (20161225.0304)\n -->\n<!-- Title: Tree Pages: 1 -->\n<svg width=\"696pt\" height=\"552pt\"\n viewBox=\"0.00 0.00 696.00 552.00\" xmlns=\"http://www.w3.org/2000/svg\" xmlns:xlink=\"http://www.w3.org/1999/xlink\">\n<g id=\"graph0\" class=\"graph\" transform=\"scale(1 1) rotate(0) translate(4 548)\">\n<title>Tree</title>\n<polygon fill=\"#ffffff\" stroke=\"transparent\" points=\"-4,4 -4,-548 692,-548 692,4 -4,4\"/>\n<!-- 0 -->\n<g id=\"node1\" class=\"node\">\n<title>0</title>\n<path fill=\"#ffffff\" stroke=\"#000000\" d=\"M470,-544C470,-544 351,-544 351,-544 345,-544 339,-538 339,-532 339,-532 339,-473 339,-473 339,-467 345,-461 351,-461 351,-461 470,-461 470,-461 476,-461 482,-467 482,-473 482,-473 482,-532 482,-532 482,-538 476,-544 470,-544\"/>\n<text text-anchor=\"start\" x=\"347\" y=\"-528.8\" font-family=\"Helvetica,sans-Serif\" font-size=\"14.00\" fill=\"#000000\">Age of home ≤ 36.0</text>\n<text text-anchor=\"start\" x=\"359.5\" y=\"-513.8\" font-family=\"Helvetica,sans-Serif\" font-size=\"14.00\" fill=\"#000000\">entropy = 1.581</text>\n<text text-anchor=\"start\" x=\"366.5\" y=\"-498.8\" font-family=\"Helvetica,sans-Serif\" font-size=\"14.00\" fill=\"#000000\">samples = 20</text>\n<text text-anchor=\"start\" x=\"361\" y=\"-483.8\" font-family=\"Helvetica,sans-Serif\" font-size=\"14.00\" fill=\"#000000\">value = [7, 6, 7]</text>\n<text text-anchor=\"start\" x=\"352.5\" y=\"-468.8\" font-family=\"Helvetica,sans-Serif\" font-size=\"14.00\" fill=\"#000000\">class = Apartment</text>\n</g>\n<!-- 1 -->\n<g id=\"node2\" class=\"node\">\n<title>1</title>\n<path fill=\"#c09cf2\" stroke=\"#000000\" d=\"M388.5,-425C388.5,-425 272.5,-425 272.5,-425 266.5,-425 260.5,-419 260.5,-413 260.5,-413 260.5,-354 260.5,-354 260.5,-348 266.5,-342 272.5,-342 272.5,-342 388.5,-342 388.5,-342 394.5,-342 400.5,-348 400.5,-354 400.5,-354 400.5,-413 400.5,-413 400.5,-419 394.5,-425 388.5,-425\"/>\n<text text-anchor=\"start\" x=\"268.5\" y=\"-409.8\" font-family=\"Helvetica,sans-Serif\" font-size=\"14.00\" fill=\"#000000\">Local Price ≤ 8.411</text>\n<text text-anchor=\"start\" x=\"279.5\" y=\"-394.8\" font-family=\"Helvetica,sans-Serif\" font-size=\"14.00\" fill=\"#000000\">entropy = 1.371</text>\n<text text-anchor=\"start\" x=\"286.5\" y=\"-379.8\" font-family=\"Helvetica,sans-Serif\" font-size=\"14.00\" fill=\"#000000\">samples = 10</text>\n<text text-anchor=\"start\" x=\"281\" y=\"-364.8\" font-family=\"Helvetica,sans-Serif\" font-size=\"14.00\" fill=\"#000000\">value = [2, 2, 6]</text>\n<text text-anchor=\"start\" x=\"284\" y=\"-349.8\" font-family=\"Helvetica,sans-Serif\" font-size=\"14.00\" fill=\"#000000\">class = House</text>\n</g>\n<!-- 0&#45;&gt;1 -->\n<g id=\"edge1\" class=\"edge\">\n<title>0&#45;&gt;1</title>\n<path fill=\"none\" stroke=\"#000000\" d=\"M382.5199,-460.8796C376.6469,-452.1434 370.3927,-442.8404 364.3321,-433.8253\"/>\n<polygon fill=\"#000000\" stroke=\"#000000\" points=\"367.0834,-431.6444 358.5995,-425.2981 361.2741,-435.5498 367.0834,-431.6444\"/>\n<text text-anchor=\"middle\" x=\"353.7915\" y=\"-446.1314\" font-family=\"Helvetica,sans-Serif\" font-size=\"14.00\" fill=\"#000000\">True</text>\n</g>\n<!-- 8 -->\n<g id=\"node9\" class=\"node\">\n<title>8</title>\n<path fill=\"#fbeade\" stroke=\"#000000\" d=\"M550,-425C550,-425 431,-425 431,-425 425,-425 419,-419 419,-413 419,-413 419,-354 419,-354 419,-348 425,-342 431,-342 431,-342 550,-342 550,-342 556,-342 562,-348 562,-354 562,-354 562,-413 562,-413 562,-419 556,-425 550,-425\"/>\n<text text-anchor=\"start\" x=\"427\" y=\"-409.8\" font-family=\"Helvetica,sans-Serif\" font-size=\"14.00\" fill=\"#000000\">Age of home ≤ 59.0</text>\n<text text-anchor=\"start\" x=\"439.5\" y=\"-394.8\" font-family=\"Helvetica,sans-Serif\" font-size=\"14.00\" fill=\"#000000\">entropy = 1.361</text>\n<text text-anchor=\"start\" x=\"446.5\" y=\"-379.8\" font-family=\"Helvetica,sans-Serif\" font-size=\"14.00\" fill=\"#000000\">samples = 10</text>\n<text text-anchor=\"start\" x=\"441\" y=\"-364.8\" font-family=\"Helvetica,sans-Serif\" font-size=\"14.00\" fill=\"#000000\">value = [5, 4, 1]</text>\n<text text-anchor=\"start\" x=\"432.5\" y=\"-349.8\" font-family=\"Helvetica,sans-Serif\" font-size=\"14.00\" fill=\"#000000\">class = Apartment</text>\n</g>\n<!-- 0&#45;&gt;8 -->\n<g id=\"edge8\" class=\"edge\">\n<title>0&#45;&gt;8</title>\n<path fill=\"none\" stroke=\"#000000\" d=\"M438.4801,-460.8796C444.3531,-452.1434 450.6073,-442.8404 456.6679,-433.8253\"/>\n<polygon fill=\"#000000\" stroke=\"#000000\" points=\"459.7259,-435.5498 462.4005,-425.2981 453.9166,-431.6444 459.7259,-435.5498\"/>\n<text text-anchor=\"middle\" x=\"467.2085\" y=\"-446.1314\" font-family=\"Helvetica,sans-Serif\" font-size=\"14.00\" fill=\"#000000\">False</text>\n</g>\n<!-- 2 -->\n<g id=\"node3\" class=\"node\">\n<title>2</title>\n<path fill=\"#ab7bee\" stroke=\"#000000\" d=\"M237.5,-306C237.5,-306 121.5,-306 121.5,-306 115.5,-306 109.5,-300 109.5,-294 109.5,-294 109.5,-235 109.5,-235 109.5,-229 115.5,-223 121.5,-223 121.5,-223 237.5,-223 237.5,-223 243.5,-223 249.5,-229 249.5,-235 249.5,-235 249.5,-294 249.5,-294 249.5,-300 243.5,-306 237.5,-306\"/>\n<text text-anchor=\"start\" x=\"117.5\" y=\"-290.8\" font-family=\"Helvetica,sans-Serif\" font-size=\"14.00\" fill=\"#000000\">Living area ≤ 1.432</text>\n<text text-anchor=\"start\" x=\"128.5\" y=\"-275.8\" font-family=\"Helvetica,sans-Serif\" font-size=\"14.00\" fill=\"#000000\">entropy = 0.811</text>\n<text text-anchor=\"start\" x=\"140\" y=\"-260.8\" font-family=\"Helvetica,sans-Serif\" font-size=\"14.00\" fill=\"#000000\">samples = 8</text>\n<text text-anchor=\"start\" x=\"130\" y=\"-245.8\" font-family=\"Helvetica,sans-Serif\" font-size=\"14.00\" fill=\"#000000\">value = [0, 2, 6]</text>\n<text text-anchor=\"start\" x=\"133\" y=\"-230.8\" font-family=\"Helvetica,sans-Serif\" font-size=\"14.00\" fill=\"#000000\">class = House</text>\n</g>\n<!-- 1&#45;&gt;2 -->\n<g id=\"edge2\" class=\"edge\">\n<title>1&#45;&gt;2</title>\n<path fill=\"none\" stroke=\"#000000\" d=\"M277.6875,-341.8796C265.6182,-332.368 252.6961,-322.1843 240.3212,-312.432\"/>\n<polygon fill=\"#000000\" stroke=\"#000000\" points=\"242.3032,-309.5377 232.2827,-306.0969 237.9704,-315.0356 242.3032,-309.5377\"/>\n</g>\n<!-- 7 -->\n<g id=\"node8\" class=\"node\">\n<title>7</title>\n<path fill=\"#e58139\" stroke=\"#000000\" d=\"M387.5,-298.5C387.5,-298.5 279.5,-298.5 279.5,-298.5 273.5,-298.5 267.5,-292.5 267.5,-286.5 267.5,-286.5 267.5,-242.5 267.5,-242.5 267.5,-236.5 273.5,-230.5 279.5,-230.5 279.5,-230.5 387.5,-230.5 387.5,-230.5 393.5,-230.5 399.5,-236.5 399.5,-242.5 399.5,-242.5 399.5,-286.5 399.5,-286.5 399.5,-292.5 393.5,-298.5 387.5,-298.5\"/>\n<text text-anchor=\"start\" x=\"291\" y=\"-283.3\" font-family=\"Helvetica,sans-Serif\" font-size=\"14.00\" fill=\"#000000\">entropy = 0.0</text>\n<text text-anchor=\"start\" x=\"294\" y=\"-268.3\" font-family=\"Helvetica,sans-Serif\" font-size=\"14.00\" fill=\"#000000\">samples = 2</text>\n<text text-anchor=\"start\" x=\"284\" y=\"-253.3\" font-family=\"Helvetica,sans-Serif\" font-size=\"14.00\" fill=\"#000000\">value = [2, 0, 0]</text>\n<text text-anchor=\"start\" x=\"275.5\" y=\"-238.3\" font-family=\"Helvetica,sans-Serif\" font-size=\"14.00\" fill=\"#000000\">class = Apartment</text>\n</g>\n<!-- 1&#45;&gt;7 -->\n<g id=\"edge7\" class=\"edge\">\n<title>1&#45;&gt;7</title>\n<path fill=\"none\" stroke=\"#000000\" d=\"M331.5493,-341.8796C331.8182,-331.2134 332.1084,-319.7021 332.3806,-308.9015\"/>\n<polygon fill=\"#000000\" stroke=\"#000000\" points=\"335.8817,-308.9 332.6349,-298.8149 328.8839,-308.7235 335.8817,-308.9\"/>\n</g>\n<!-- 3 -->\n<g id=\"node4\" class=\"node\">\n<title>3</title>\n<path fill=\"#ffffff\" stroke=\"#000000\" d=\"M172,-187C172,-187 69,-187 69,-187 63,-187 57,-181 57,-175 57,-175 57,-116 57,-116 57,-110 63,-104 69,-104 69,-104 172,-104 172,-104 178,-104 184,-110 184,-116 184,-116 184,-175 184,-175 184,-181 178,-187 172,-187\"/>\n<text text-anchor=\"start\" x=\"65\" y=\"-171.8\" font-family=\"Helvetica,sans-Serif\" font-size=\"14.00\" fill=\"#000000\">Land Area ≤ 6.55</text>\n<text text-anchor=\"start\" x=\"78\" y=\"-156.8\" font-family=\"Helvetica,sans-Serif\" font-size=\"14.00\" fill=\"#000000\">entropy = 1.0</text>\n<text text-anchor=\"start\" x=\"81\" y=\"-141.8\" font-family=\"Helvetica,sans-Serif\" font-size=\"14.00\" fill=\"#000000\">samples = 4</text>\n<text text-anchor=\"start\" x=\"71\" y=\"-126.8\" font-family=\"Helvetica,sans-Serif\" font-size=\"14.00\" fill=\"#000000\">value = [0, 2, 2]</text>\n<text text-anchor=\"start\" x=\"73.5\" y=\"-111.8\" font-family=\"Helvetica,sans-Serif\" font-size=\"14.00\" fill=\"#000000\">class = Condo</text>\n</g>\n<!-- 2&#45;&gt;3 -->\n<g id=\"edge3\" class=\"edge\">\n<title>2&#45;&gt;3</title>\n<path fill=\"none\" stroke=\"#000000\" d=\"M158.8647,-222.8796C154.6226,-214.3236 150.111,-205.2238 145.7279,-196.3833\"/>\n<polygon fill=\"#000000\" stroke=\"#000000\" points=\"148.8012,-194.7026 141.2234,-187.2981 142.5297,-197.8121 148.8012,-194.7026\"/>\n</g>\n<!-- 6 -->\n<g id=\"node7\" class=\"node\">\n<title>6</title>\n<path fill=\"#8139e5\" stroke=\"#000000\" d=\"M305,-179.5C305,-179.5 214,-179.5 214,-179.5 208,-179.5 202,-173.5 202,-167.5 202,-167.5 202,-123.5 202,-123.5 202,-117.5 208,-111.5 214,-111.5 214,-111.5 305,-111.5 305,-111.5 311,-111.5 317,-117.5 317,-123.5 317,-123.5 317,-167.5 317,-167.5 317,-173.5 311,-179.5 305,-179.5\"/>\n<text text-anchor=\"start\" x=\"217\" y=\"-164.3\" font-family=\"Helvetica,sans-Serif\" font-size=\"14.00\" fill=\"#000000\">entropy = 0.0</text>\n<text text-anchor=\"start\" x=\"220\" y=\"-149.3\" font-family=\"Helvetica,sans-Serif\" font-size=\"14.00\" fill=\"#000000\">samples = 4</text>\n<text text-anchor=\"start\" x=\"210\" y=\"-134.3\" font-family=\"Helvetica,sans-Serif\" font-size=\"14.00\" fill=\"#000000\">value = [0, 0, 4]</text>\n<text text-anchor=\"start\" x=\"213\" y=\"-119.3\" font-family=\"Helvetica,sans-Serif\" font-size=\"14.00\" fill=\"#000000\">class = House</text>\n</g>\n<!-- 2&#45;&gt;6 -->\n<g id=\"edge6\" class=\"edge\">\n<title>2&#45;&gt;6</title>\n<path fill=\"none\" stroke=\"#000000\" d=\"M207.4801,-222.8796C215.0203,-211.6636 223.1887,-199.5131 230.7691,-188.2372\"/>\n<polygon fill=\"#000000\" stroke=\"#000000\" points=\"233.7566,-190.0667 236.4311,-179.8149 227.9473,-186.1612 233.7566,-190.0667\"/>\n</g>\n<!-- 4 -->\n<g id=\"node5\" class=\"node\">\n<title>4</title>\n<path fill=\"#8139e5\" stroke=\"#000000\" d=\"M103,-68C103,-68 12,-68 12,-68 6,-68 0,-62 0,-56 0,-56 0,-12 0,-12 0,-6 6,0 12,0 12,0 103,0 103,0 109,0 115,-6 115,-12 115,-12 115,-56 115,-56 115,-62 109,-68 103,-68\"/>\n<text text-anchor=\"start\" x=\"15\" y=\"-52.8\" font-family=\"Helvetica,sans-Serif\" font-size=\"14.00\" fill=\"#000000\">entropy = 0.0</text>\n<text text-anchor=\"start\" x=\"18\" y=\"-37.8\" font-family=\"Helvetica,sans-Serif\" font-size=\"14.00\" fill=\"#000000\">samples = 2</text>\n<text text-anchor=\"start\" x=\"8\" y=\"-22.8\" font-family=\"Helvetica,sans-Serif\" font-size=\"14.00\" fill=\"#000000\">value = [0, 0, 2]</text>\n<text text-anchor=\"start\" x=\"11\" y=\"-7.8\" font-family=\"Helvetica,sans-Serif\" font-size=\"14.00\" fill=\"#000000\">class = House</text>\n</g>\n<!-- 3&#45;&gt;4 -->\n<g id=\"edge4\" class=\"edge\">\n<title>3&#45;&gt;4</title>\n<path fill=\"none\" stroke=\"#000000\" d=\"M97.0411,-103.9815C92.1078,-95.2504 86.8926,-86.0202 81.9248,-77.2281\"/>\n<polygon fill=\"#000000\" stroke=\"#000000\" points=\"84.8263,-75.2483 76.8597,-68.2637 78.7319,-78.6918 84.8263,-75.2483\"/>\n</g>\n<!-- 5 -->\n<g id=\"node6\" class=\"node\">\n<title>5</title>\n<path fill=\"#39e581\" stroke=\"#000000\" d=\"M236,-68C236,-68 145,-68 145,-68 139,-68 133,-62 133,-56 133,-56 133,-12 133,-12 133,-6 139,0 145,0 145,0 236,0 236,0 242,0 248,-6 248,-12 248,-12 248,-56 248,-56 248,-62 242,-68 236,-68\"/>\n<text text-anchor=\"start\" x=\"148\" y=\"-52.8\" font-family=\"Helvetica,sans-Serif\" font-size=\"14.00\" fill=\"#000000\">entropy = 0.0</text>\n<text text-anchor=\"start\" x=\"151\" y=\"-37.8\" font-family=\"Helvetica,sans-Serif\" font-size=\"14.00\" fill=\"#000000\">samples = 2</text>\n<text text-anchor=\"start\" x=\"141\" y=\"-22.8\" font-family=\"Helvetica,sans-Serif\" font-size=\"14.00\" fill=\"#000000\">value = [0, 2, 0]</text>\n<text text-anchor=\"start\" x=\"143.5\" y=\"-7.8\" font-family=\"Helvetica,sans-Serif\" font-size=\"14.00\" fill=\"#000000\">class = Condo</text>\n</g>\n<!-- 3&#45;&gt;5 -->\n<g id=\"edge5\" class=\"edge\">\n<title>3&#45;&gt;5</title>\n<path fill=\"none\" stroke=\"#000000\" d=\"M146.5654,-103.9815C152.1045,-95.1585 157.9636,-85.8258 163.5355,-76.9506\"/>\n<polygon fill=\"#000000\" stroke=\"#000000\" points=\"166.6363,-78.594 168.9892,-68.2637 160.7078,-74.872 166.6363,-78.594\"/>\n</g>\n<!-- 9 -->\n<g id=\"node10\" class=\"node\">\n<title>9</title>\n<path fill=\"#fae6d7\" stroke=\"#000000\" d=\"M542.5,-306C542.5,-306 434.5,-306 434.5,-306 428.5,-306 422.5,-300 422.5,-294 422.5,-294 422.5,-235 422.5,-235 422.5,-229 428.5,-223 434.5,-223 434.5,-223 542.5,-223 542.5,-223 548.5,-223 554.5,-229 554.5,-235 554.5,-235 554.5,-294 554.5,-294 554.5,-300 548.5,-306 542.5,-306\"/>\n<text text-anchor=\"start\" x=\"437\" y=\"-290.8\" font-family=\"Helvetica,sans-Serif\" font-size=\"14.00\" fill=\"#000000\">Land Area ≤ 5.5</text>\n<text text-anchor=\"start\" x=\"437.5\" y=\"-275.8\" font-family=\"Helvetica,sans-Serif\" font-size=\"14.00\" fill=\"#000000\">entropy = 0.991</text>\n<text text-anchor=\"start\" x=\"449\" y=\"-260.8\" font-family=\"Helvetica,sans-Serif\" font-size=\"14.00\" fill=\"#000000\">samples = 9</text>\n<text text-anchor=\"start\" x=\"439\" y=\"-245.8\" font-family=\"Helvetica,sans-Serif\" font-size=\"14.00\" fill=\"#000000\">value = [5, 4, 0]</text>\n<text text-anchor=\"start\" x=\"430.5\" y=\"-230.8\" font-family=\"Helvetica,sans-Serif\" font-size=\"14.00\" fill=\"#000000\">class = Apartment</text>\n</g>\n<!-- 8&#45;&gt;9 -->\n<g id=\"edge9\" class=\"edge\">\n<title>8&#45;&gt;9</title>\n<path fill=\"none\" stroke=\"#000000\" d=\"M489.8005,-341.8796C489.6628,-333.6838 489.5166,-324.9891 489.374,-316.5013\"/>\n<polygon fill=\"#000000\" stroke=\"#000000\" points=\"492.8701,-316.2378 489.2025,-306.2981 485.8711,-316.3555 492.8701,-316.2378\"/>\n</g>\n<!-- 14 -->\n<g id=\"node15\" class=\"node\">\n<title>14</title>\n<path fill=\"#8139e5\" stroke=\"#000000\" d=\"M676,-298.5C676,-298.5 585,-298.5 585,-298.5 579,-298.5 573,-292.5 573,-286.5 573,-286.5 573,-242.5 573,-242.5 573,-236.5 579,-230.5 585,-230.5 585,-230.5 676,-230.5 676,-230.5 682,-230.5 688,-236.5 688,-242.5 688,-242.5 688,-286.5 688,-286.5 688,-292.5 682,-298.5 676,-298.5\"/>\n<text text-anchor=\"start\" x=\"588\" y=\"-283.3\" font-family=\"Helvetica,sans-Serif\" font-size=\"14.00\" fill=\"#000000\">entropy = 0.0</text>\n<text text-anchor=\"start\" x=\"591\" y=\"-268.3\" font-family=\"Helvetica,sans-Serif\" font-size=\"14.00\" fill=\"#000000\">samples = 1</text>\n<text text-anchor=\"start\" x=\"581\" y=\"-253.3\" font-family=\"Helvetica,sans-Serif\" font-size=\"14.00\" fill=\"#000000\">value = [0, 0, 1]</text>\n<text text-anchor=\"start\" x=\"584\" y=\"-238.3\" font-family=\"Helvetica,sans-Serif\" font-size=\"14.00\" fill=\"#000000\">class = House</text>\n</g>\n<!-- 8&#45;&gt;14 -->\n<g id=\"edge14\" class=\"edge\">\n<title>8&#45;&gt;14</title>\n<path fill=\"none\" stroke=\"#000000\" d=\"M539.4652,-341.8796C553.3073,-330.1138 568.3592,-317.3197 582.1641,-305.5855\"/>\n<polygon fill=\"#000000\" stroke=\"#000000\" points=\"584.7769,-307.9582 590.1295,-298.8149 580.2433,-302.6247 584.7769,-307.9582\"/>\n</g>\n<!-- 10 -->\n<g id=\"node11\" class=\"node\">\n<title>10</title>\n<path fill=\"#efb388\" stroke=\"#000000\" d=\"M498.5,-187C498.5,-187 390.5,-187 390.5,-187 384.5,-187 378.5,-181 378.5,-175 378.5,-175 378.5,-116 378.5,-116 378.5,-110 384.5,-104 390.5,-104 390.5,-104 498.5,-104 498.5,-104 504.5,-104 510.5,-110 510.5,-116 510.5,-116 510.5,-175 510.5,-175 510.5,-181 504.5,-187 498.5,-187\"/>\n<text text-anchor=\"start\" x=\"386.5\" y=\"-171.8\" font-family=\"Helvetica,sans-Serif\" font-size=\"14.00\" fill=\"#000000\">Local Price ≤ 4.55</text>\n<text text-anchor=\"start\" x=\"393.5\" y=\"-156.8\" font-family=\"Helvetica,sans-Serif\" font-size=\"14.00\" fill=\"#000000\">entropy = 0.863</text>\n<text text-anchor=\"start\" x=\"405\" y=\"-141.8\" font-family=\"Helvetica,sans-Serif\" font-size=\"14.00\" fill=\"#000000\">samples = 7</text>\n<text text-anchor=\"start\" x=\"395\" y=\"-126.8\" font-family=\"Helvetica,sans-Serif\" font-size=\"14.00\" fill=\"#000000\">value = [5, 2, 0]</text>\n<text text-anchor=\"start\" x=\"386.5\" y=\"-111.8\" font-family=\"Helvetica,sans-Serif\" font-size=\"14.00\" fill=\"#000000\">class = Apartment</text>\n</g>\n<!-- 9&#45;&gt;10 -->\n<g id=\"edge10\" class=\"edge\">\n<title>9&#45;&gt;10</title>\n<path fill=\"none\" stroke=\"#000000\" d=\"M473.1109,-222.8796C470.014,-214.5037 466.7243,-205.6067 463.5206,-196.942\"/>\n<polygon fill=\"#000000\" stroke=\"#000000\" points=\"466.7056,-195.4636 459.9547,-187.2981 460.14,-197.8913 466.7056,-195.4636\"/>\n</g>\n<!-- 13 -->\n<g id=\"node14\" class=\"node\">\n<title>13</title>\n<path fill=\"#39e581\" stroke=\"#000000\" d=\"M632,-179.5C632,-179.5 541,-179.5 541,-179.5 535,-179.5 529,-173.5 529,-167.5 529,-167.5 529,-123.5 529,-123.5 529,-117.5 535,-111.5 541,-111.5 541,-111.5 632,-111.5 632,-111.5 638,-111.5 644,-117.5 644,-123.5 644,-123.5 644,-167.5 644,-167.5 644,-173.5 638,-179.5 632,-179.5\"/>\n<text text-anchor=\"start\" x=\"544\" y=\"-164.3\" font-family=\"Helvetica,sans-Serif\" font-size=\"14.00\" fill=\"#000000\">entropy = 0.0</text>\n<text text-anchor=\"start\" x=\"547\" y=\"-149.3\" font-family=\"Helvetica,sans-Serif\" font-size=\"14.00\" fill=\"#000000\">samples = 2</text>\n<text text-anchor=\"start\" x=\"537\" y=\"-134.3\" font-family=\"Helvetica,sans-Serif\" font-size=\"14.00\" fill=\"#000000\">value = [0, 2, 0]</text>\n<text text-anchor=\"start\" x=\"539.5\" y=\"-119.3\" font-family=\"Helvetica,sans-Serif\" font-size=\"14.00\" fill=\"#000000\">class = Condo</text>\n</g>\n<!-- 9&#45;&gt;13 -->\n<g id=\"edge13\" class=\"edge\">\n<title>9&#45;&gt;13</title>\n<path fill=\"none\" stroke=\"#000000\" d=\"M522.7756,-222.8796C532.1935,-211.4436 542.4113,-199.0363 551.85,-187.575\"/>\n<polygon fill=\"#000000\" stroke=\"#000000\" points=\"554.5853,-189.7592 558.2406,-179.8149 549.1818,-185.3093 554.5853,-189.7592\"/>\n</g>\n<!-- 11 -->\n<g id=\"node12\" class=\"node\">\n<title>11</title>\n<path fill=\"#39e581\" stroke=\"#000000\" d=\"M408,-68C408,-68 317,-68 317,-68 311,-68 305,-62 305,-56 305,-56 305,-12 305,-12 305,-6 311,0 317,0 317,0 408,0 408,0 414,0 420,-6 420,-12 420,-12 420,-56 420,-56 420,-62 414,-68 408,-68\"/>\n<text text-anchor=\"start\" x=\"320\" y=\"-52.8\" font-family=\"Helvetica,sans-Serif\" font-size=\"14.00\" fill=\"#000000\">entropy = 0.0</text>\n<text text-anchor=\"start\" x=\"323\" y=\"-37.8\" font-family=\"Helvetica,sans-Serif\" font-size=\"14.00\" fill=\"#000000\">samples = 2</text>\n<text text-anchor=\"start\" x=\"313\" y=\"-22.8\" font-family=\"Helvetica,sans-Serif\" font-size=\"14.00\" fill=\"#000000\">value = [0, 2, 0]</text>\n<text text-anchor=\"start\" x=\"315.5\" y=\"-7.8\" font-family=\"Helvetica,sans-Serif\" font-size=\"14.00\" fill=\"#000000\">class = Condo</text>\n</g>\n<!-- 10&#45;&gt;11 -->\n<g id=\"edge11\" class=\"edge\">\n<title>10&#45;&gt;11</title>\n<path fill=\"none\" stroke=\"#000000\" d=\"M413.9662,-103.9815C407.3424,-94.9747 400.3279,-85.4367 393.6795,-76.3965\"/>\n<polygon fill=\"#000000\" stroke=\"#000000\" points=\"396.4426,-74.2461 387.6984,-68.2637 390.8034,-78.3933 396.4426,-74.2461\"/>\n</g>\n<!-- 12 -->\n<g id=\"node13\" class=\"node\">\n<title>12</title>\n<path fill=\"#e58139\" stroke=\"#000000\" d=\"M558.5,-68C558.5,-68 450.5,-68 450.5,-68 444.5,-68 438.5,-62 438.5,-56 438.5,-56 438.5,-12 438.5,-12 438.5,-6 444.5,0 450.5,0 450.5,0 558.5,0 558.5,0 564.5,0 570.5,-6 570.5,-12 570.5,-12 570.5,-56 570.5,-56 570.5,-62 564.5,-68 558.5,-68\"/>\n<text text-anchor=\"start\" x=\"462\" y=\"-52.8\" font-family=\"Helvetica,sans-Serif\" font-size=\"14.00\" fill=\"#000000\">entropy = 0.0</text>\n<text text-anchor=\"start\" x=\"465\" y=\"-37.8\" font-family=\"Helvetica,sans-Serif\" font-size=\"14.00\" fill=\"#000000\">samples = 5</text>\n<text text-anchor=\"start\" x=\"455\" y=\"-22.8\" font-family=\"Helvetica,sans-Serif\" font-size=\"14.00\" fill=\"#000000\">value = [5, 0, 0]</text>\n<text text-anchor=\"start\" x=\"446.5\" y=\"-7.8\" font-family=\"Helvetica,sans-Serif\" font-size=\"14.00\" fill=\"#000000\">class = Apartment</text>\n</g>\n<!-- 10&#45;&gt;12 -->\n<g id=\"edge12\" class=\"edge\">\n<title>10&#45;&gt;12</title>\n<path fill=\"none\" stroke=\"#000000\" d=\"M466.8418,-103.9815C471.5402,-95.2504 476.5071,-86.0202 481.2383,-77.2281\"/>\n<polygon fill=\"#000000\" stroke=\"#000000\" points=\"484.4056,-78.7282 486.0621,-68.2637 478.2414,-75.4111 484.4056,-78.7282\"/>\n</g>\n</g>\n</svg>\n"
          },
          "metadata": {},
          "execution_count": 12
        }
      ]
    },
    {
      "cell_type": "markdown",
      "source": [
        "## Answer to question 4:\n",
        "## For the unpruned decision tree above, \n",
        "## Inference for the classification of the given example based on this tree:\n",
        "## 1. given its home age is 23 which is less than 36.0, we go to left branch of the root node\n",
        "## 2. given its local price is 9.0384 which is greater than 8.411, we goes to the right branch of this current node, which makes us arrive a leaf, and thus we can classifiy this example as an Apartment."
      ],
      "metadata": {
        "id": "H_io38lAaMFf"
      }
    }
  ]
}
